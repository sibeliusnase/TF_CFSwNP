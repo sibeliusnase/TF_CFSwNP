{
  "metadata": {
    "kernelspec": {
      "name": "python",
      "display_name": "Python (Pyodide)",
      "language": "python"
    },
    "language_info": {
      "codemirror_mode": {
        "name": "python",
        "version": 3
      },
      "file_extension": ".py",
      "mimetype": "text/x-python",
      "name": "python",
      "nbconvert_exporter": "python",
      "pygments_lexer": "ipython3",
      "version": "3.8"
    }
  },
  "nbformat_minor": 5,
  "nbformat": 4,
  "cells": [
    {
      "id": "1524bb01-91ac-4783-bda1-b3e15773e111",
      "cell_type": "markdown",
      "source": "# Contact information",
      "metadata": {}
    },
    {
      "id": "891474b2-da78-46c6-b646-11bfba4c4c06",
      "cell_type": "markdown",
      "source": "Name: Fabio Ryser\n\nAffiliation: Department of Rheumatology and Immunology, University Hospital Bern",
      "metadata": {}
    },
    {
      "id": "c2c69cfa-e544-43f4-84b0-9656a18a11cc",
      "cell_type": "markdown",
      "source": "## Analysis",
      "metadata": {}
    },
    {
      "id": "202c761c-f320-4aed-aeb6-dec1896d7b1e",
      "cell_type": "markdown",
      "source": "This is our Code:",
      "metadata": {}
    },
    {
      "id": "6c2803d4-913c-4a97-963b-c8ec77335b98",
      "cell_type": "code",
      "source": "temperature = 20*2-20",
      "metadata": {
        "trusted": true
      },
      "outputs": [],
      "execution_count": 2
    },
    {
      "id": "def7998d-929c-4109-a153-4a83864d39b9",
      "cell_type": "code",
      "source": "temperature",
      "metadata": {
        "trusted": true
      },
      "outputs": [
        {
          "execution_count": 3,
          "output_type": "execute_result",
          "data": {
            "text/plain": "20"
          },
          "metadata": {}
        }
      ],
      "execution_count": 3
    },
    {
      "id": "957b731d-b8ef-4058-bd1f-81e5610e9ff4",
      "cell_type": "code",
      "source": "",
      "metadata": {
        "trusted": true
      },
      "outputs": [],
      "execution_count": null
    }
  ]
}